{
 "cells": [
  {
   "cell_type": "code",
   "execution_count": 19,
   "id": "9035293f",
   "metadata": {},
   "outputs": [
    {
     "name": "stdout",
     "output_type": "stream",
     "text": [
      "['Developer' 'Designer' 'Facilitator' 'Director' 'Representative'\n",
      " 'Technician' 'Assistant' 'Consultant' 'Executive' 'Associate' 'Architect'\n",
      " 'Specialist' 'Engineer' 'Producer' 'Liaison' 'Analyst' 'Supervisor'\n",
      " 'Officer' 'Strategist' 'HR' 'Orchestrator' 'Planner' 'Agent' 'Manager'\n",
      " 'Administrator' 'Coordinator']\n",
      "      last_word_role\n",
      "0          Developer\n",
      "1           Designer\n",
      "2        Facilitator\n",
      "3           Director\n",
      "4     Representative\n",
      "...              ...\n",
      "1000         Manager\n",
      "1001         Manager\n",
      "1002         Manager\n",
      "1003         Manager\n",
      "1004         Manager\n",
      "\n",
      "[1005 rows x 1 columns]\n",
      "Mean Squared Error: 2012736822.8731213\n"
     ]
    }
   ],
   "source": [
    "import pandas as pd\n",
    "import pickle\n",
    "from sklearn.tree import DecisionTreeClassifier\n",
    "from sklearn.model_selection import train_test_split\n",
    "from sklearn.metrics import mean_squared_error\n",
    "\n",
    "df = pd.read_csv(r\"C:\\hackathon\\users.csv\")\n",
    "\n",
    "df['last_word_role'] = df['role'].str.split().str[-1]\n",
    "print(df['last_word_role'].unique())\n",
    "X = df[['last_word_role']]\n",
    "y = df['salary']\n",
    "print(X)\n",
    "\n",
    "#print (df.head(5))\n",
    "X_encoded = pd.get_dummies(X)\n",
    "# print(X_encoded)\n",
    "\n",
    "X_train, X_test, y_train, y_test = train_test_split(X_encoded, y, test_size=0.2, random_state=42)\n",
    "\n",
    "from sklearn.linear_model import LinearRegression\n",
    "\n",
    "model = LinearRegression()\n",
    "model.fit(X_train, y_train)\n",
    "\n",
    "y_pred = model.predict(X_test)\n",
    "mse = mean_squared_error(y_test, y_pred)\n",
    "print(\"Mean Squared Error:\", mse)"
   ]
  },
  {
   "cell_type": "code",
   "execution_count": null,
   "id": "f8ba0864",
   "metadata": {},
   "outputs": [],
   "source": []
  },
  {
   "cell_type": "code",
   "execution_count": null,
   "id": "5e932f1e",
   "metadata": {},
   "outputs": [],
   "source": []
  }
 ],
 "metadata": {
  "kernelspec": {
   "display_name": "Python 3 (ipykernel)",
   "language": "python",
   "name": "python3"
  },
  "language_info": {
   "codemirror_mode": {
    "name": "ipython",
    "version": 3
   },
   "file_extension": ".py",
   "mimetype": "text/x-python",
   "name": "python",
   "nbconvert_exporter": "python",
   "pygments_lexer": "ipython3",
   "version": "3.10.9"
  }
 },
 "nbformat": 4,
 "nbformat_minor": 5
}
