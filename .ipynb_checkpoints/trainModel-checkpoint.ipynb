{
 "cells": [
  {
   "cell_type": "code",
   "execution_count": 94,
   "id": "9035293f",
   "metadata": {},
   "outputs": [
    {
     "name": "stdout",
     "output_type": "stream",
     "text": [
      "Training Score: 0.9484672735069141\n",
      "Testing Score: 0.9458269878553242\n",
      "Model saved to 'employee_salary_model.pkl'\n"
     ]
    }
   ],
   "source": [
    "import pandas as pd\n",
    "from sklearn.model_selection import train_test_split\n",
    "from sklearn.linear_model import LinearRegression\n",
    "import pickle\n",
    "\n",
    "data = pd.read_csv('./users.csv')\n",
    "\n",
    "X = data[['role']]\n",
    "y = data['salary']\n",
    "\n",
    "X = pd.get_dummies(X, drop_first=True)\n",
    "\n",
    "X_train, X_test, y_train, y_test = train_test_split(X, y, test_size=0.2, random_state=42)\n",
    "\n",
    "model = LinearRegression()\n",
    "model.fit(X_train, y_train)\n",
    "\n",
    "train_score = model.score(X_train, y_train)\n",
    "test_score = model.score(X_test, y_test)\n",
    "print(f\"Training Score: {train_score}\")\n",
    "print(f\"Testing Score: {test_score}\")\n",
    "\n",
    "# Save the trained model to a file using pickle\n",
    "with open('employee_salary_model.pkl', 'wb') as file:\n",
    "    pickle.dump(model, file)\n",
    "\n",
    "print(\"Model saved to 'employee_salary_model.pkl'\")\n"
   ]
  },
  {
   "cell_type": "code",
   "execution_count": 97,
   "id": "f8ba0864",
   "metadata": {},
   "outputs": [
    {
     "name": "stdout",
     "output_type": "stream",
     "text": [
      "The predicted salary for a 'Planner' is $72421.53\n"
     ]
    }
   ],
   "source": [
    "def predict_salary(role):\n",
    "    role_df = pd.DataFrame(0, columns=model.feature_names_in_, index=[0])\n",
    "    role_df['role_' + role] = 1\n",
    "\n",
    "    predicted_salary = model.predict(role_df)\n",
    "\n",
    "    return predicted_salary[0]\n",
    "\n",
    "\n",
    "role = 'Planner'\n",
    "predicted_salary = predict_salary(role)\n",
    "print(f\"The predicted salary for a '{role}' is ${predicted_salary:.2f}\")"
   ]
  },
  {
   "cell_type": "code",
   "execution_count": null,
   "id": "5e932f1e",
   "metadata": {},
   "outputs": [],
   "source": []
  }
 ],
 "metadata": {
  "kernelspec": {
   "display_name": "Python 3 (ipykernel)",
   "language": "python",
   "name": "python3"
  },
  "language_info": {
   "codemirror_mode": {
    "name": "ipython",
    "version": 3
   },
   "file_extension": ".py",
   "mimetype": "text/x-python",
   "name": "python",
   "nbconvert_exporter": "python",
   "pygments_lexer": "ipython3",
   "version": "3.10.9"
  }
 },
 "nbformat": 4,
 "nbformat_minor": 5
}
